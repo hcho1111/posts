{
 "cells": [
  {
   "cell_type": "raw",
   "id": "1c14bd4a-23cc-44f2-adce-115f02742ab2",
   "metadata": {},
   "source": [
    "prefix: elbow-curve\n",
    "\n",
    "grid:\n",
    "  n_clusters: [1, 2, 3, 4, 5, 6, 7, 8, 9, 10, 11, 12, 13, 14, 15, 16, 17, 18, 19, 20]"
   ]
  },
  {
   "cell_type": "code",
   "execution_count": 2,
   "id": "609125e8-cfc0-420a-84f5-b53bc5bc7741",
   "metadata": {},
   "outputs": [],
   "source": [
    "import time\n",
    "\n",
    "from sklearn.cluster import KMeans\n",
    "from sklearn.datasets import make_blobs\n",
    "import matplotlib.pyplot as plt\n",
    "\n",
    "from sklearn_evaluation import plot"
   ]
  },
  {
   "cell_type": "code",
   "execution_count": 3,
   "id": "86ab8a0e-eb05-4c9e-89ff-b568991f41c1",
   "metadata": {},
   "outputs": [],
   "source": [
    "# PARAMETERS\n",
    "n_clusters = 1"
   ]
  },
  {
   "cell_type": "code",
   "execution_count": 4,
   "id": "7c749c1d-1824-4b60-ab5e-fa9c260fdee7",
   "metadata": {},
   "outputs": [],
   "source": [
    "X, _ = make_blobs(n_samples=100000, centers=5, n_features=100, random_state=0)"
   ]
  },
  {
   "cell_type": "code",
   "execution_count": 5,
   "id": "0d422ed0-a320-442f-a418-975d278edba2",
   "metadata": {},
   "outputs": [],
   "source": [
    "model = KMeans(n_clusters=n_clusters, random_state=0)"
   ]
  },
  {
   "cell_type": "code",
   "execution_count": 6,
   "id": "65631bb6-fb13-4264-9534-ce93e160ae57",
   "metadata": {},
   "outputs": [],
   "source": [
    "then = time.time()"
   ]
  },
  {
   "cell_type": "code",
   "execution_count": 7,
   "id": "f9b8d9df-773d-457d-b69a-b626507b6e36",
   "metadata": {},
   "outputs": [],
   "source": [
    "sum_of_squares = abs(model.fit(X).score(X))\n",
    "elapsed = time.time() - then "
   ]
  },
  {
   "cell_type": "code",
   "execution_count": 8,
   "id": "904f7d1b-8c56-467f-9ccf-b92f802c0a05",
   "metadata": {
    "tags": [
     "n-clusters"
    ]
   },
   "outputs": [
    {
     "data": {
      "text/plain": [
       "1"
      ]
     },
     "execution_count": 8,
     "metadata": {},
     "output_type": "execute_result"
    }
   ],
   "source": [
    "n_clusters"
   ]
  },
  {
   "cell_type": "code",
   "execution_count": 9,
   "id": "dc9215df-cf21-461a-9bef-259e303649a4",
   "metadata": {
    "tags": [
     "sum-of-squares"
    ]
   },
   "outputs": [
    {
     "data": {
      "text/plain": [
       "292847995.46575713"
      ]
     },
     "execution_count": 9,
     "metadata": {},
     "output_type": "execute_result"
    }
   ],
   "source": [
    "sum_of_squares"
   ]
  },
  {
   "cell_type": "code",
   "execution_count": 10,
   "id": "9078746e-1662-4294-b395-591403caa71b",
   "metadata": {
    "tags": [
     "elapsed"
    ]
   },
   "outputs": [
    {
     "data": {
      "text/plain": [
       "0.4286808967590332"
      ]
     },
     "execution_count": 10,
     "metadata": {},
     "output_type": "execute_result"
    }
   ],
   "source": [
    "elapsed"
   ]
  }
 ],
 "metadata": {
  "kernelspec": {
   "display_name": "Python 3 (ipykernel)",
   "language": "python",
   "name": "python3"
  },
  "language_info": {
   "codemirror_mode": {
    "name": "ipython",
    "version": 3
   },
   "file_extension": ".py",
   "mimetype": "text/x-python",
   "name": "python",
   "nbconvert_exporter": "python",
   "pygments_lexer": "ipython3",
   "version": "3.9.13"
  }
 },
 "nbformat": 4,
 "nbformat_minor": 5
}
