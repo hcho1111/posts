{
 "cells": [
  {
   "cell_type": "raw",
   "id": "60849d75-6a7f-46b2-a848-695ba7390a05",
   "metadata": {},
   "source": [
    "prefix: threshold-selection\n",
    "\n",
    "grid:\n",
    "    n: [1, 2, 3, 4, 5, 6, 7, 8, 9, 10, 11, 12, 13, 14, 15, 16, 17, 18, 19, 20]\n",
    "\n",
    "outputs:\n",
    "    - metrics.csv"
   ]
  },
  {
   "cell_type": "code",
   "execution_count": 780,
   "id": "65f64088-49a6-4811-8a18-ab2361e3a6ac",
   "metadata": {},
   "outputs": [],
   "source": [
    "# PARAMETERS\n",
    "n = None"
   ]
  },
  {
   "cell_type": "code",
   "execution_count": 781,
   "id": "9c7b4986-5ac6-4508-8263-cf255e72a5f8",
   "metadata": {},
   "outputs": [],
   "source": [
    "from functools import partial\n",
    "\n",
    "import matplotlib.pyplot as plt\n",
    "import pandas as pd\n",
    "import numpy as np\n",
    "\n",
    "from sklearn import datasets\n",
    "from sklearn.ensemble import RandomForestClassifier\n",
    "from sklearn.linear_model import LogisticRegression\n",
    "from sklearn.model_selection import train_test_split\n",
    "\n",
    "from sklearn.metrics import precision_score, recall_score, f1_score"
   ]
  },
  {
   "cell_type": "code",
   "execution_count": 782,
   "id": "f0515dab-9b21-4cf4-b40a-26152ce06233",
   "metadata": {},
   "outputs": [],
   "source": [
    "X, y = datasets.make_classification(250000, 50,\n",
    "                                    n_informative=5,\n",
    "                                    flip_y=0.2,\n",
    "                                    class_sep=0.3,\n",
    "                                    random_state=0,\n",
    "                                    scale=20,\n",
    "                                    n_clusters_per_class=2)\n",
    "\n",
    "X_train, X_test, y_train, y_test = train_test_split(X, y, test_size=0.1)"
   ]
  },
  {
   "cell_type": "code",
   "execution_count": 783,
   "id": "4d9511e9-a7ab-4c5f-bef3-b763fe7b7db4",
   "metadata": {},
   "outputs": [],
   "source": [
    "clf = RandomForestClassifier(n_estimators=2, n_jobs=-1, max_depth=20)\n",
    "clf.fit(X_train, y_train)\n",
    "\n",
    "y_scores = clf.predict_proba(X_test)"
   ]
  },
  {
   "cell_type": "code",
   "execution_count": 784,
   "id": "182595d0-b32e-4a84-891f-2c2f8564eac7",
   "metadata": {},
   "outputs": [],
   "source": [
    "thresholds = np.arange(0, 1, step=0.02)"
   ]
  },
  {
   "cell_type": "code",
   "execution_count": 802,
   "id": "d88e923d-d7f1-4b07-ae7f-e26ff142b17d",
   "metadata": {},
   "outputs": [],
   "source": [
    "def metric_at_threshold(metric, y_test, y_scores, threshold):\n",
    "    return metric(y_test, y_scores >= threshold)\n",
    "\n",
    "def flagged(y_scores, threshold):\n",
    "    return (y_scores >= threshold).sum()"
   ]
  },
  {
   "cell_type": "code",
   "execution_count": 803,
   "id": "f0f201a8-4fbf-43a9-8c80-f66351e18367",
   "metadata": {},
   "outputs": [],
   "source": [
    "precision_score_ = partial(precision_score, zero_division=1)"
   ]
  },
  {
   "cell_type": "code",
   "execution_count": 804,
   "id": "98ff70af-53d5-4447-a75d-b5134b7083f6",
   "metadata": {},
   "outputs": [],
   "source": [
    "precision = [metric_at_threshold(precision_score_, y_test, y_scores[:, 1], threshold)\n",
    "             for threshold in thresholds]\n",
    "\n",
    "recall = [metric_at_threshold(recall_score, y_test, y_scores[:, 1], threshold)\n",
    "          for threshold in thresholds]\n",
    "\n",
    "f1 = [metric_at_threshold(f1_score, y_test, y_scores[:, 1], threshold)\n",
    "      for threshold in thresholds]\n",
    "\n",
    "n_flagged = [flagged(y_scores[:, 1], threshold) for threshold in thresholds]"
   ]
  },
  {
   "cell_type": "code",
   "execution_count": 805,
   "id": "d3282968-ab2c-44ee-8502-1872706006ab",
   "metadata": {},
   "outputs": [],
   "source": [
    "df = pd.DataFrame({'threshold': thresholds,\n",
    "                   'precision': precision,\n",
    "                   'recall': recall,\n",
    "                   'f1': f1,\n",
    "                   'n_flagged': n_flagged})"
   ]
  },
  {
   "cell_type": "code",
   "execution_count": 806,
   "id": "2060fbdf-7ef5-41ab-9ebe-4a89309780c3",
   "metadata": {},
   "outputs": [
    {
     "data": {
      "text/html": [
       "<div>\n",
       "<style scoped>\n",
       "    .dataframe tbody tr th:only-of-type {\n",
       "        vertical-align: middle;\n",
       "    }\n",
       "\n",
       "    .dataframe tbody tr th {\n",
       "        vertical-align: top;\n",
       "    }\n",
       "\n",
       "    .dataframe thead th {\n",
       "        text-align: right;\n",
       "    }\n",
       "</style>\n",
       "<table border=\"1\" class=\"dataframe\">\n",
       "  <thead>\n",
       "    <tr style=\"text-align: right;\">\n",
       "      <th></th>\n",
       "      <th>threshold</th>\n",
       "      <th>precision</th>\n",
       "      <th>recall</th>\n",
       "      <th>f1</th>\n",
       "      <th>n_flagged</th>\n",
       "    </tr>\n",
       "  </thead>\n",
       "  <tbody>\n",
       "    <tr>\n",
       "      <th>0</th>\n",
       "      <td>0.00</td>\n",
       "      <td>0.501840</td>\n",
       "      <td>1.000000</td>\n",
       "      <td>0.668300</td>\n",
       "      <td>25000</td>\n",
       "    </tr>\n",
       "    <tr>\n",
       "      <th>1</th>\n",
       "      <td>0.02</td>\n",
       "      <td>0.504956</td>\n",
       "      <td>0.994819</td>\n",
       "      <td>0.669887</td>\n",
       "      <td>24717</td>\n",
       "    </tr>\n",
       "    <tr>\n",
       "      <th>2</th>\n",
       "      <td>0.04</td>\n",
       "      <td>0.509270</td>\n",
       "      <td>0.991790</td>\n",
       "      <td>0.672977</td>\n",
       "      <td>24433</td>\n",
       "    </tr>\n",
       "    <tr>\n",
       "      <th>3</th>\n",
       "      <td>0.06</td>\n",
       "      <td>0.514746</td>\n",
       "      <td>0.986370</td>\n",
       "      <td>0.676470</td>\n",
       "      <td>24041</td>\n",
       "    </tr>\n",
       "    <tr>\n",
       "      <th>4</th>\n",
       "      <td>0.08</td>\n",
       "      <td>0.523587</td>\n",
       "      <td>0.981110</td>\n",
       "      <td>0.682790</td>\n",
       "      <td>23509</td>\n",
       "    </tr>\n",
       "  </tbody>\n",
       "</table>\n",
       "</div>"
      ],
      "text/plain": [
       "   threshold  precision    recall        f1  n_flagged\n",
       "0       0.00   0.501840  1.000000  0.668300      25000\n",
       "1       0.02   0.504956  0.994819  0.669887      24717\n",
       "2       0.04   0.509270  0.991790  0.672977      24433\n",
       "3       0.06   0.514746  0.986370  0.676470      24041\n",
       "4       0.08   0.523587  0.981110  0.682790      23509"
      ]
     },
     "execution_count": 806,
     "metadata": {},
     "output_type": "execute_result"
    }
   ],
   "source": [
    "df.head()"
   ]
  },
  {
   "cell_type": "code",
   "execution_count": 789,
   "id": "53caa999-8cb6-4f9a-8da0-6823a8f9f7c1",
   "metadata": {},
   "outputs": [],
   "source": [
    "df.to_csv('metrics.csv')"
   ]
  },
  {
   "cell_type": "code",
   "execution_count": 828,
   "id": "82f6bc8b-e9b8-45a7-a640-f06193f1d937",
   "metadata": {},
   "outputs": [
    {
     "data": {
      "text/plain": [
       "<matplotlib.legend.Legend at 0x13ded4580>"
      ]
     },
     "execution_count": 828,
     "metadata": {},
     "output_type": "execute_result"
    },
    {
     "data": {
      "image/png": "[encoded data removed]",
      "text/plain": [
       "<Figure size 640x480 with 2 Axes>"
      ]
     },
     "metadata": {},
     "output_type": "display_data"
    }
   ],
   "source": [
    "plt.plot(thresholds, precision, label='precision')\n",
    "plt.plot(thresholds, recall, label='recall')\n",
    "plt.plot(thresholds, f1, label='f1')\n",
    "\n",
    "plt.xlabel('Threshold')\n",
    "plt.legend()\n",
    "plt.grid()\n",
    "plt.ylabel('Metric value')\n",
    "\n",
    "ax = plt.twinx()\n",
    "plt.ylabel('Flagged')\n",
    "ax.plot(thresholds, n_flagged, label='flagged', color='red')\n",
    "ax.legend(loc=5)"
   ]
  },
  {
   "cell_type": "code",
   "execution_count": 791,
   "id": "a8314f4b-5388-4fe2-ae73-b5b47d506f46",
   "metadata": {},
   "outputs": [],
   "source": [
    "idx = np.argmax(f1)"
   ]
  },
  {
   "cell_type": "code",
   "execution_count": 792,
   "id": "e8a8fe1a-665a-4c72-ae69-484209bf3165",
   "metadata": {},
   "outputs": [
    {
     "data": {
      "text/plain": [
       "0.715157140962737"
      ]
     },
     "execution_count": 792,
     "metadata": {},
     "output_type": "execute_result"
    }
   ],
   "source": [
    "f1[idx]"
   ]
  },
  {
   "cell_type": "code",
   "execution_count": 793,
   "id": "59b4d308-b7f6-4535-88ae-833093637064",
   "metadata": {},
   "outputs": [
    {
     "data": {
      "text/plain": [
       "0.6122147803382904"
      ]
     },
     "execution_count": 793,
     "metadata": {},
     "output_type": "execute_result"
    }
   ],
   "source": [
    "precision[idx]"
   ]
  },
  {
   "cell_type": "code",
   "execution_count": 794,
   "id": "e6eb02f3-ee31-48ed-854a-ef61c9b5b6c6",
   "metadata": {},
   "outputs": [
    {
     "data": {
      "text/plain": [
       "0.8597162442212657"
      ]
     },
     "execution_count": 794,
     "metadata": {},
     "output_type": "execute_result"
    }
   ],
   "source": [
    "recall[idx]"
   ]
  },
  {
   "cell_type": "code",
   "execution_count": null,
   "id": "0a2c95f5-0bfa-406d-bcc6-e13ed2fddd7d",
   "metadata": {},
   "outputs": [],
   "source": []
  }
 ],
 "metadata": {
  "kernelspec": {
   "display_name": "Python 3 (ipykernel)",
   "language": "python",
   "name": "python3"
  },
  "language_info": {
   "codemirror_mode": {
    "name": "ipython",
    "version": 3
   },
   "file_extension": ".py",
   "mimetype": "text/x-python",
   "name": "python",
   "nbconvert_exporter": "python",
   "pygments_lexer": "ipython3",
   "version": "3.9.13"
  }
 },
 "nbformat": 4,
 "nbformat_minor": 5
}
